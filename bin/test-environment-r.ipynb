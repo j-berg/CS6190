{
 "cells": [
  {
   "cell_type": "code",
   "execution_count": 2,
   "id": "b146788c",
   "metadata": {},
   "outputs": [
    {
     "name": "stderr",
     "output_type": "stream",
     "text": [
      "Warning message:\n",
      "\"package 'BiocManager' was built under R version 4.0.5\"\n",
      "'getOption(\"repos\")' replaces Bioconductor standard repositories, see\n",
      "'?repositories' for details\n",
      "\n",
      "replacement repositories:\n",
      "    CRAN: https://cran.r-project.org\n",
      "\n",
      "\n",
      "Bioconductor version 3.11 (BiocManager 1.30.12), R 4.0.2 (2020-06-22)\n",
      "\n",
      "Installing package(s) 'recount3'\n",
      "\n",
      "Warning message:\n",
      "\"package 'recount3' is not available (for R version 4.0.2)\"\n",
      "Installation paths not writeable, unable to update packages\n",
      "  path: C:/Program Files/R/R-4.0.2/library\n",
      "  packages:\n",
      "    boot, class, cluster, codetools, foreign, KernSmooth, lattice, MASS, mgcv,\n",
      "    nlme, nnet, rpart, spatial\n",
      "\n",
      "Old packages: 'backports', 'BH', 'BiocManager', 'blob', 'brew', 'brio',\n",
      "  'broom', 'bslib', 'cachem', 'car', 'carData', 'cli', 'clipr', 'colorspace',\n",
      "  'commonmark', 'conquer', 'corrplot', 'cpp11', 'crayon', 'credentials',\n",
      "  'crosstalk', 'curl', 'data.table', 'DBI', 'dbscan', 'deldir', 'desc',\n",
      "  'devtools', 'diffobj', 'digest', 'doParallel', 'dplyr', 'DT', 'ellipsis',\n",
      "  'evaluate', 'exactRankTests', 'fansi', 'fastcluster', 'fitdistrplus',\n",
      "  'foreach', 'formatR', 'fs', 'future', 'future.apply', 'generics', 'gert',\n",
      "  'ggfortify', 'ggplot2', 'ggsignif', 'gh', 'git2r', 'glue', 'goftest',\n",
      "  'haven', 'Hmisc', 'hms', 'htmlTable', 'htmltools', 'htmlwidgets', 'httpuv',\n",
      "  'igraph', 'installr', 'IRdisplay', 'IRkernel', 'irlba', 'isoband',\n",
      "  'iterators', 'jpeg', 'jsonlite', 'knitr', 'later', 'leiden', 'lifecycle',\n",
      "  'lme4', 'lmtest', 'lubridate', 'magrittr', 'maptools', 'mathjaxr', 'Matrix',\n",
      "  'matrixStats', 'memoise', 'metap', 'mime', 'multcomp', 'mvtnorm', 'nloptr',\n",
      "  'openssl', 'openxlsx', 'packrat', 'parallelly', 'pbapply', 'pbdZMQ',\n",
      "  'pillar', 'pkgbuild', 'pkgload', 'plotly', 'plotrix', 'processx', 'quantreg',\n",
      "  'R.utils', 'R6', 'rbibutils', 'rcmdcheck', 'Rcpp', 'RcppAnnoy',\n",
      "  'RcppArmadillo', 'RCurl', 'Rdpack', 'readr', 'remotes', 'repr', 'reticulate',\n",
      "  'rex', 'rio', 'RJSONIO', 'rlang', 'rmarkdown', 'roxygen2', 'rsconnect',\n",
      "  'RSQLite', 'rversions', 'rvest', 'scattermore', 'sctransform', 'sessioninfo',\n",
      "  'Seurat', 'SeuratObject', 'shiny', 'sitmo', 'sn', 'snow', 'sp',\n",
      "  'spatstat.core', 'spatstat.data', 'spatstat.geom', 'spatstat.sparse',\n",
      "  'spatstat.utils', 'statmod', 'stringi', 'survival', 'testthat', 'TH.data',\n",
      "  'tibble', 'tidyr', 'tidyselect', 'tinytex', 'usethis', 'utf8', 'uuid',\n",
      "  'uwot', 'vctrs', 'viridis', 'waldo', 'withr', 'xfun', 'XML', 'xml2', 'yaml',\n",
      "  'zip', 'zoo'\n",
      "\n"
     ]
    },
    {
     "ename": "ERROR",
     "evalue": "Error in library(recount3): there is no package called 'recount3'\n",
     "output_type": "error",
     "traceback": [
      "Error in library(recount3): there is no package called 'recount3'\nTraceback:\n",
      "1. library(recount3)"
     ]
    }
   ],
   "source": [
    "# Install and load Recount3 library\n",
    "if (!require(\"BiocManager\", quietly = TRUE)) {\n",
    "    install.packages(\"BiocManager\")\n",
    "}\n",
    "    \n",
    "\n",
    "if (\"recount3\" %in% rownames(installed.packages()) == FALSE) {\n",
    "  BiocManager::install(\"recount3\", dependencies=c(\"Depends\", \"Imports\", \"LinkingTo\"))\n",
    "} else {\n",
    "  print(\"recount3 package already installed\")\n",
    "}\n",
    "\n",
    "library(recount3)"
   ]
  },
  {
   "cell_type": "code",
   "execution_count": null,
   "id": "6a1ccce4",
   "metadata": {},
   "outputs": [],
   "source": []
  }
 ],
 "metadata": {
  "kernelspec": {
   "display_name": "R",
   "language": "R",
   "name": "ir"
  },
  "language_info": {
   "codemirror_mode": "r",
   "file_extension": ".r",
   "mimetype": "text/x-r-source",
   "name": "R",
   "pygments_lexer": "r",
   "version": "4.0.2"
  }
 },
 "nbformat": 4,
 "nbformat_minor": 5
}
