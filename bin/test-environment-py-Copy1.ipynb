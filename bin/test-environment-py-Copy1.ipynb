{
 "cells": [
  {
   "cell_type": "code",
   "execution_count": 1,
   "id": "9ccdfeaf",
   "metadata": {},
   "outputs": [],
   "source": [
    "import os\n",
    "import json\n",
    "\n",
    "import pandas as pd\n",
    "import numpy as np\n",
    "import matplotlib \n",
    "import matplotlib.pyplot as plt\n",
    "\n",
    "from linear_modeling import *"
   ]
  },
  {
   "cell_type": "markdown",
   "id": "7ddb4839",
   "metadata": {},
   "source": [
    "### Load data and sample metadata"
   ]
  },
  {
   "cell_type": "code",
   "execution_count": 2,
   "id": "23a3771e",
   "metadata": {},
   "outputs": [],
   "source": [
    "data_path = os.path.join(\n",
    "    os.getcwd(),\n",
    "    \"..\",\n",
    "    \"data\",\n",
    "    \"S_cereviseae_compendia_recount_bio\"\n",
    ")"
   ]
  },
  {
   "cell_type": "code",
   "execution_count": 3,
   "id": "e5b38e47",
   "metadata": {},
   "outputs": [],
   "source": [
    "with open(\n",
    "        os.path.join(data_path, 'aggregated_metadata.json'), 'r') as jsonfile:\n",
    "    metadata_file = json.load(jsonfile)\n",
    "\n",
    "tables = {}\n",
    "for k, v in metadata_file['experiments'].items():\n",
    "    tables[v[\"accession_code\"]] = v\n",
    "    \n",
    "metadata = pd.DataFrame(tables).T"
   ]
  },
  {
   "cell_type": "code",
   "execution_count": 4,
   "id": "7f117ae7",
   "metadata": {},
   "outputs": [
    {
     "name": "stdout",
     "output_type": "stream",
     "text": [
      "Loaded data with dimensions: (12428, 5370)\n"
     ]
    }
   ],
   "source": [
    "data = pd.read_csv(os.path.join(data_path, \"SACCHAROMYCES_CEREVISIAE.tsv\"), sep=\"\\t\", header=0, index_col=0).T\n",
    "print(\"Loaded data with dimensions:\", str(data.shape))"
   ]
  },
  {
   "cell_type": "markdown",
   "id": "bbf51e2d",
   "metadata": {},
   "source": [
    "### Load gene metadata"
   ]
  },
  {
   "cell_type": "code",
   "execution_count": 5,
   "id": "e6fbf07d",
   "metadata": {},
   "outputs": [],
   "source": [
    "# Get metadata for genes and extract genes with \"transporter\" annotation\n",
    "gene_mapper = pd.read_csv(os.path.join(\n",
    "    os.getcwd(),\n",
    "    \"..\",\n",
    "    \"data\",\n",
    "    \"yeast_orf_dict.csv\"\n",
    "), header=None, names=[\"id\", \"symbol\", \"name\", \"description\"])"
   ]
  },
  {
   "cell_type": "code",
   "execution_count": 6,
   "id": "9926df33",
   "metadata": {},
   "outputs": [],
   "source": [
    "gene_map = {}\n",
    "for i, r in gene_mapper.iterrows():\n",
    "    _id = str(r[\"id\"])\n",
    "    _name = str(r[\"symbol\"])\n",
    "    if _name != \"nan\":\n",
    "        gene_map[_id] = _name\n",
    "    else:\n",
    "        gene_map[_id] = _id"
   ]
  },
  {
   "cell_type": "code",
   "execution_count": 7,
   "id": "e7d4ce6a",
   "metadata": {},
   "outputs": [],
   "source": [
    "names = [\n",
    "    \"MCT1\",\n",
    "    \"SIT4\",\n",
    "    \"PHO85\",\n",
    "    \"PHO84\",\n",
    "    \"PHO4\",\n",
    "    \"REG1\",\n",
    "    \"PHO80\",\n",
    "    \"PHO81\",\n",
    "    \"PHO89\",\n",
    "    \"PHO2\",\n",
    "    \"PHO87\",\n",
    "    \"PHO90\",\n",
    "]"
   ]
  },
  {
   "cell_type": "code",
   "execution_count": 8,
   "id": "eacc32d1",
   "metadata": {},
   "outputs": [],
   "source": [
    "corr_data = pd.DataFrame()"
   ]
  },
  {
   "cell_type": "code",
   "execution_count": 9,
   "id": "5bcb1485",
   "metadata": {},
   "outputs": [
    {
     "name": "stdout",
     "output_type": "stream",
     "text": [
      "*** MCT1 ***\n",
      "*** SIT4 ***\n",
      "*** PHO85 ***\n",
      "*** PHO84 ***\n",
      "*** PHO4 ***\n",
      "*** REG1 ***\n",
      "*** PHO80 ***\n",
      "*** PHO81 ***\n",
      "*** PHO89 ***\n",
      "*** PHO2 ***\n",
      "*** PHO87 ***\n",
      "*** PHO90 ***\n"
     ]
    }
   ],
   "source": [
    "for x in names:\n",
    "    try:\n",
    "        print(\"***\", x, \"***\")\n",
    "        _this = gene_mapper.loc[gene_mapper[\"symbol\"] == x][\"id\"].tolist()[0]\n",
    "        _sort = data.corr()[_this].sort_values(ascending=False)\n",
    "        \n",
    "        corr_data[x + \"_id\"] = _sort.index.tolist()\n",
    "        corr_data[x + \"_name\"] = _sort.index.map(gene_map).tolist()\n",
    "        corr_data[x + \"_r_value\"] = _sort.tolist()\n",
    "        \n",
    "    except:\n",
    "        print(\"Skipping\", x, \"...\")"
   ]
  },
  {
   "cell_type": "code",
   "execution_count": 10,
   "id": "2078c065",
   "metadata": {},
   "outputs": [],
   "source": [
    "corr_data.to_csv(os.path.join(\n",
    "    os.getcwd(),\n",
    "    \"..\",\n",
    "    \"data\",\n",
    "    \"gene_correlations.tsv\"\n",
    "), sep=\"\\t\")"
   ]
  },
  {
   "cell_type": "code",
   "execution_count": null,
   "id": "6d5733d2",
   "metadata": {},
   "outputs": [],
   "source": []
  }
 ],
 "metadata": {
  "kernelspec": {
   "display_name": "Python 3 (ipykernel)",
   "language": "python",
   "name": "python3"
  },
  "language_info": {
   "codemirror_mode": {
    "name": "ipython",
    "version": 3
   },
   "file_extension": ".py",
   "mimetype": "text/x-python",
   "name": "python",
   "nbconvert_exporter": "python",
   "pygments_lexer": "ipython3",
   "version": "3.8.10"
  }
 },
 "nbformat": 4,
 "nbformat_minor": 5
}
