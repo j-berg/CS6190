{
 "cells": [
  {
   "cell_type": "code",
   "execution_count": 9,
   "id": "9ccdfeaf",
   "metadata": {},
   "outputs": [],
   "source": [
    "import os\n",
    "import json\n",
    "import math\n",
    "import pandas as pd\n",
    "import numpy as np\n",
    "import networkx as nx\n",
    "import matplotlib\n",
    "import matplotlib.pyplot as plt\n",
    "import seaborn as sns"
   ]
  },
  {
   "cell_type": "markdown",
   "id": "7ddb4839",
   "metadata": {},
   "source": [
    "### Load data"
   ]
  },
  {
   "cell_type": "code",
   "execution_count": 10,
   "id": "23a3771e",
   "metadata": {},
   "outputs": [],
   "source": [
    "data_path = os.path.join(\n",
    "    os.getcwd(),\n",
    "    \"..\",\n",
    "    \"data\",\n",
    "    \"S_cereviseae_compendia_recount_bio\"\n",
    ")\n",
    "\n",
    "mic_path = os.path.join(\n",
    "    os.getcwd(),\n",
    "    \"..\",\n",
    "    \"mic_output\"\n",
    ")"
   ]
  },
  {
   "cell_type": "code",
   "execution_count": 11,
   "id": "e5b38e47",
   "metadata": {},
   "outputs": [],
   "source": [
    "with open(\n",
    "        os.path.join(data_path, 'aggregated_metadata.json'), 'r') as jsonfile:\n",
    "    metadata_file = json.load(jsonfile)\n",
    "\n",
    "tables = {}\n",
    "for k, v in metadata_file['experiments'].items():\n",
    "    tables[v[\"accession_code\"]] = v\n",
    "    \n",
    "metadata = pd.DataFrame(tables).T"
   ]
  },
  {
   "cell_type": "code",
   "execution_count": 12,
   "id": "7f117ae7",
   "metadata": {},
   "outputs": [
    {
     "name": "stdout",
     "output_type": "stream",
     "text": [
      "Loaded data with dimensions: (12428, 5370)\n"
     ]
    }
   ],
   "source": [
    "data = pd.read_csv(os.path.join(data_path, \"SACCHAROMYCES_CEREVISIAE.tsv\"), sep=\"\\t\", header=0, index_col=0).T\n",
    "print(\"Loaded data with dimensions:\", str(data.shape))"
   ]
  },
  {
   "cell_type": "markdown",
   "id": "bbf51e2d",
   "metadata": {},
   "source": [
    "### Load gene metadata"
   ]
  },
  {
   "cell_type": "code",
   "execution_count": 13,
   "id": "e6fbf07d",
   "metadata": {},
   "outputs": [],
   "source": [
    "# Get metadata for genes and extract genes with \"transporter\" annotation\n",
    "gene_mapper = pd.read_csv(os.path.join(\n",
    "    os.getcwd(),\n",
    "    \"..\",\n",
    "    \"data\",\n",
    "    \"yeast_orf_dict.csv\"\n",
    "), header=None, names=[\"id\", \"symbol\", \"name\", \"description\"])\n",
    "\n",
    "transporters = gene_mapper.loc[gene_mapper[\"description\"].str.contains(\"transporter\")]\n",
    "transporters_list = transporters[\"id\"].tolist()"
   ]
  },
  {
   "cell_type": "code",
   "execution_count": 14,
   "id": "9926df33",
   "metadata": {},
   "outputs": [],
   "source": [
    "gene_map = {}\n",
    "for i, r in gene_mapper.iterrows():\n",
    "    _id = str(r[\"id\"])\n",
    "    _name = str(r[\"symbol\"])\n",
    "    if _name != \"nan\":\n",
    "        gene_map[_id] = _name\n",
    "    else:\n",
    "        gene_map[_id] = _id"
   ]
  },
  {
   "cell_type": "code",
   "execution_count": 15,
   "id": "20f6506a",
   "metadata": {},
   "outputs": [],
   "source": [
    "transporter_list = transporters[\"id\"].tolist()"
   ]
  },
  {
   "cell_type": "markdown",
   "id": "fe14cffb",
   "metadata": {},
   "source": [
    "### Generate graph"
   ]
  },
  {
   "cell_type": "code",
   "execution_count": 19,
   "id": "07fbcf8d",
   "metadata": {},
   "outputs": [],
   "source": [
    "G = nx.Graph()\n",
    "G.add_nodes_from(data.columns.tolist())"
   ]
  },
  {
   "cell_type": "code",
   "execution_count": 22,
   "id": "9f18ddee",
   "metadata": {},
   "outputs": [],
   "source": [
    "for n in G.nodes():\n",
    "    G.nodes()[n]['id'] = n\n",
    "    G.nodes()[n]['name'] = gene_map[n]\n",
    "    G.nodes()[n]['mic'] = \"\""
   ]
  },
  {
   "cell_type": "code",
   "execution_count": null,
   "id": "cec60a38",
   "metadata": {},
   "outputs": [],
   "source": []
  }
 ],
 "metadata": {
  "kernelspec": {
   "display_name": "Python 3 (ipykernel)",
   "language": "python",
   "name": "python3"
  },
  "language_info": {
   "codemirror_mode": {
    "name": "ipython",
    "version": 3
   },
   "file_extension": ".py",
   "mimetype": "text/x-python",
   "name": "python",
   "nbconvert_exporter": "python",
   "pygments_lexer": "ipython3",
   "version": "3.8.10"
  }
 },
 "nbformat": 4,
 "nbformat_minor": 5
}
