{
 "cells": [
  {
   "cell_type": "code",
   "execution_count": 9,
   "id": "fbfff5b4",
   "metadata": {},
   "outputs": [],
   "source": [
    "import os\n",
    "import json\n",
    "\n",
    "import pandas as pd\n",
    "import numpy as np\n",
    "import matplotlib \n",
    "import matplotlib.pyplot as plt\n",
    "\n",
    "from linear_modeling import *"
   ]
  },
  {
   "cell_type": "markdown",
   "id": "8b47a370",
   "metadata": {},
   "source": [
    "### Load data and sample metadata"
   ]
  },
  {
   "cell_type": "code",
   "execution_count": 2,
   "id": "bac80a7c",
   "metadata": {},
   "outputs": [],
   "source": [
    "data_path = os.path.join(\n",
    "    os.getcwd(),\n",
    "    \"..\",\n",
    "    \"data\",\n",
    "    \"S_cereviseae_compendia_recount_bio_2022_03_16\"\n",
    ")"
   ]
  },
  {
   "cell_type": "code",
   "execution_count": 3,
   "id": "4ad6bbb0",
   "metadata": {},
   "outputs": [],
   "source": [
    "with open(\n",
    "        os.path.join(data_path, 'aggregated_metadata.json'), 'r') as jsonfile:\n",
    "    metadata_file = json.load(jsonfile)\n",
    "\n",
    "tables = {}\n",
    "for k, v in metadata_file['experiments'].items():\n",
    "    tables[v[\"accession_code\"]] = v\n",
    "    \n",
    "metadata = pd.DataFrame(tables).T"
   ]
  },
  {
   "cell_type": "code",
   "execution_count": 4,
   "id": "631ccb0f",
   "metadata": {},
   "outputs": [
    {
     "name": "stdout",
     "output_type": "stream",
     "text": [
      "Loaded data with dimensions: (5370, 12428)\n"
     ]
    }
   ],
   "source": [
    "data = pd.read_csv(os.path.join(data_path, \"SACCHAROMYCES_CEREVISIAE.tsv\"), sep=\"\\t\", header=0, index_col=0)\n",
    "print(\"Loaded data with dimensions:\", str(data.shape))"
   ]
  },
  {
   "cell_type": "code",
   "execution_count": 277,
   "id": "3bafd079",
   "metadata": {},
   "outputs": [
    {
     "name": "stdout",
     "output_type": "stream",
     "text": [
      "Train data dimensions: (5370, 7457)\n"
     ]
    }
   ],
   "source": [
    "train = data.sample(frac=0.6, random_state=42, axis=1)\n",
    "print(\"Train data dimensions:\", train.shape)"
   ]
  },
  {
   "cell_type": "code",
   "execution_count": 278,
   "id": "ee8c1ad7",
   "metadata": {},
   "outputs": [
    {
     "name": "stdout",
     "output_type": "stream",
     "text": [
      "Test data dimensions: (5370, 4971)\n"
     ]
    }
   ],
   "source": [
    "test = data.drop(train.columns, axis=1)\n",
    "print(\"Test data dimensions:\", test.shape)"
   ]
  },
  {
   "cell_type": "markdown",
   "id": "92a5b343",
   "metadata": {},
   "source": [
    "### Load gene metadata"
   ]
  },
  {
   "cell_type": "code",
   "execution_count": 279,
   "id": "e0536407",
   "metadata": {},
   "outputs": [],
   "source": [
    "# Get metadata for genes and extract genes with \"transporter\" annotation\n",
    "gene_mapper = pd.read_csv(os.path.join(\n",
    "    os.getcwd(),\n",
    "    \"..\",\n",
    "    \"data\",\n",
    "    \"yeast_orf_dict.csv\"\n",
    "), header=None, names=[\"id\", \"symbol\", \"name\", \"description\"])\n",
    "\n",
    "transporters = gene_mapper.loc[gene_mapper[\"description\"].str.contains(\"transporter\")]\n",
    "transporters_list = transporters[\"id\"].tolist()"
   ]
  },
  {
   "cell_type": "code",
   "execution_count": 280,
   "id": "a438ef36",
   "metadata": {},
   "outputs": [],
   "source": [
    "# Extract transporters from data\n",
    "train_transporters = train.reindex(labels=transporters_list, axis=0)\n",
    "test_transporters = test.reindex(labels=transporters_list, axis=0)"
   ]
  },
  {
   "cell_type": "code",
   "execution_count": 281,
   "id": "c55a99fe",
   "metadata": {},
   "outputs": [],
   "source": [
    "# Get ID for transporter\n",
    "_name = \"CTP1\"\n",
    "_this = transporters.loc[transporters[\"symbol\"] == _name][\"id\"].tolist()[0]\n",
    "\n",
    "# Extract transporter from `train` and `test` for labels\n",
    "training_labels = train.loc[[_this]]\n",
    "test_labels = test.loc[[_this]]\n",
    "\n",
    "# Extract all other genes `train` and `test` for input data\n",
    "training_data = train.loc[train.index != _this]\n",
    "test_data = test.loc[test.index != _this]\n",
    "\n",
    "# Format axis for analysis\n",
    "training_labels = np.array(training_labels.T)\n",
    "test_labels = np.array(test_labels.T)\n",
    "training_data = np.array(training_data.T)\n",
    "test_data = np.array(test_data.T)\n",
    "\n",
    "# Pad `train` and `test` with 1s\n",
    "training_data = np.hstack((training_data, np.ones((training_data.shape[0], 1))))\n",
    "test_data = np.hstack((test_data, np.ones((test_data.shape[0], 1))))"
   ]
  },
  {
   "cell_type": "code",
   "execution_count": 282,
   "id": "520e81a0",
   "metadata": {},
   "outputs": [],
   "source": [
    "X = training_data\n",
    "y = training_labels"
   ]
  },
  {
   "cell_type": "code",
   "execution_count": null,
   "id": "9db244d4",
   "metadata": {},
   "outputs": [],
   "source": []
  },
  {
   "cell_type": "code",
   "execution_count": null,
   "id": "56036a13",
   "metadata": {},
   "outputs": [],
   "source": []
  },
  {
   "cell_type": "code",
   "execution_count": null,
   "id": "35f0751b",
   "metadata": {},
   "outputs": [],
   "source": []
  },
  {
   "cell_type": "code",
   "execution_count": null,
   "id": "482e2cbf",
   "metadata": {},
   "outputs": [],
   "source": []
  },
  {
   "cell_type": "code",
   "execution_count": null,
   "id": "23f94ed2",
   "metadata": {},
   "outputs": [],
   "source": []
  },
  {
   "cell_type": "code",
   "execution_count": null,
   "id": "4d661b38",
   "metadata": {},
   "outputs": [],
   "source": []
  },
  {
   "cell_type": "code",
   "execution_count": null,
   "id": "70e0d237",
   "metadata": {},
   "outputs": [],
   "source": []
  }
 ],
 "metadata": {
  "kernelspec": {
   "display_name": "Python 3 (ipykernel)",
   "language": "python",
   "name": "python3"
  },
  "language_info": {
   "codemirror_mode": {
    "name": "ipython",
    "version": 3
   },
   "file_extension": ".py",
   "mimetype": "text/x-python",
   "name": "python",
   "nbconvert_exporter": "python",
   "pygments_lexer": "ipython3",
   "version": "3.8.10"
  }
 },
 "nbformat": 4,
 "nbformat_minor": 5
}
