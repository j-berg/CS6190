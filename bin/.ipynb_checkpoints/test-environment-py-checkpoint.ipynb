{
 "cells": [
  {
   "cell_type": "code",
   "execution_count": 22,
   "id": "9ccdfeaf",
   "metadata": {},
   "outputs": [],
   "source": [
    "import os\n",
    "import json\n",
    "import math\n",
    "import pandas as pd\n",
    "import numpy as np\n",
    "from minepy import MINE\n",
    "import concurrent.futures\n",
    "from multiprocessing import cpu_count"
   ]
  },
  {
   "cell_type": "markdown",
   "id": "7ddb4839",
   "metadata": {},
   "source": [
    "### Load data and sample metadata"
   ]
  },
  {
   "cell_type": "code",
   "execution_count": 4,
   "id": "23a3771e",
   "metadata": {},
   "outputs": [],
   "source": [
    "data_path = os.path.join(\n",
    "    os.getcwd(),\n",
    "    \"..\",\n",
    "    \"data\",\n",
    "    \"S_cereviseae_compendia_recount_bio\"\n",
    ")"
   ]
  },
  {
   "cell_type": "code",
   "execution_count": 5,
   "id": "e5b38e47",
   "metadata": {},
   "outputs": [],
   "source": [
    "with open(\n",
    "        os.path.join(data_path, 'aggregated_metadata.json'), 'r') as jsonfile:\n",
    "    metadata_file = json.load(jsonfile)\n",
    "\n",
    "tables = {}\n",
    "for k, v in metadata_file['experiments'].items():\n",
    "    tables[v[\"accession_code\"]] = v\n",
    "    \n",
    "metadata = pd.DataFrame(tables).T"
   ]
  },
  {
   "cell_type": "code",
   "execution_count": 6,
   "id": "7f117ae7",
   "metadata": {},
   "outputs": [
    {
     "name": "stdout",
     "output_type": "stream",
     "text": [
      "Loaded data with dimensions: (12428, 5370)\n"
     ]
    }
   ],
   "source": [
    "data = pd.read_csv(os.path.join(data_path, \"SACCHAROMYCES_CEREVISIAE.tsv\"), sep=\"\\t\", header=0, index_col=0).T\n",
    "print(\"Loaded data with dimensions:\", str(data.shape))"
   ]
  },
  {
   "cell_type": "markdown",
   "id": "bbf51e2d",
   "metadata": {},
   "source": [
    "### Load gene metadata"
   ]
  },
  {
   "cell_type": "code",
   "execution_count": 7,
   "id": "e6fbf07d",
   "metadata": {},
   "outputs": [],
   "source": [
    "# Get metadata for genes and extract genes with \"transporter\" annotation\n",
    "gene_mapper = pd.read_csv(os.path.join(\n",
    "    os.getcwd(),\n",
    "    \"..\",\n",
    "    \"data\",\n",
    "    \"yeast_orf_dict.csv\"\n",
    "), header=None, names=[\"id\", \"symbol\", \"name\", \"description\"])\n",
    "\n",
    "transporters = gene_mapper.loc[gene_mapper[\"description\"].str.contains(\"transporter\")]\n",
    "transporters_list = transporters[\"id\"].tolist()"
   ]
  },
  {
   "cell_type": "code",
   "execution_count": 8,
   "id": "9926df33",
   "metadata": {},
   "outputs": [],
   "source": [
    "gene_map = {}\n",
    "for i, r in gene_mapper.iterrows():\n",
    "    _id = str(r[\"id\"])\n",
    "    _name = str(r[\"symbol\"])\n",
    "    if _name != \"nan\":\n",
    "        gene_map[_id] = _name\n",
    "    else:\n",
    "        gene_map[_id] = _id"
   ]
  },
  {
   "cell_type": "code",
   "execution_count": 9,
   "id": "378b7193",
   "metadata": {},
   "outputs": [],
   "source": [
    "def split_data(data, label_names, test_fraction=0.2, random_state=42):\n",
    "    \"\"\"Split input data into training and testing sets\n",
    "    \n",
    "    data        <pd.DataFrame> : Expects dataframe with genes as columns and samples as rows\n",
    "    label_names <array>        : List of name(s) that are labels\n",
    "    \"\"\"\n",
    "    \n",
    "    test = data.sample(\n",
    "        frac=test_fraction, \n",
    "        random_state=random_state,\n",
    "        axis=0)\n",
    "    train = data.loc[~data.index.isin(test.index)]\n",
    "    \n",
    "    X_test = test[test.columns.difference(label_names)]\n",
    "    y_test = test[label_names]\n",
    "    \n",
    "    X_train = train[train.columns.difference(label_names)]\n",
    "    y_train = train[label_names]\n",
    "    \n",
    "    feature_labels = [X_test.columns.tolist(), y_test.columns.tolist()]\n",
    "    \n",
    "    return np.array(X_train), np.array(X_test), np.array(y_train), np.array(y_test), feature_labels"
   ]
  },
  {
   "cell_type": "code",
   "execution_count": 10,
   "id": "3a704f4e",
   "metadata": {},
   "outputs": [],
   "source": [
    "def run_mic(data, _id):\n",
    "    X_train, X_test, y_train, y_test, feature_labels = split_data(data, [_id], test_fraction=0.3)\n",
    "    results = np.zeros(X_train.shape[1])\n",
    "\n",
    "    for i in range(X_train.shape[1]):\n",
    "        mine = MINE(alpha=0.6, c=15)\n",
    "        mine.compute_score(X_train[:, i], y_train[:, 0])\n",
    "        results[i] = mine.mic()\n",
    "\n",
    "    output = pd.DataFrame(results, index=feature_labels[0], columns=feature_labels[1])\n",
    "    output.to_csv(os.path.join(\"..\", \"mic_output\", _id + \".tsv\"), sep=\"\\t\")\n",
    "    print(_id + \" complete.\")"
   ]
  },
  {
   "cell_type": "code",
   "execution_count": 11,
   "id": "db46d335",
   "metadata": {},
   "outputs": [],
   "source": [
    "transporter_list = transporters[\"id\"].tolist()"
   ]
  },
  {
   "cell_type": "code",
   "execution_count": null,
   "id": "c1a7a2d2",
   "metadata": {},
   "outputs": [],
   "source": [
    "def run_pools(\n",
    "    func,\n",
    "    arg_iter,\n",
    "    arg_dict):\n",
    "    \n",
    "    pools = int(math.ceil(len(arg_iter) / arg_dict['workers']))\n",
    "    if pools < 1:\n",
    "        pools = 1\n",
    "\n",
    "    it_list = []\n",
    "    range_number = 0\n",
    "    for x in range(pools):\n",
    "        it_list.append([iter for iter in arg_iter[range_number:range_number + arg_dict['workers']]])\n",
    "        range_number += arg_dict['workers']\n",
    "\n",
    "    batch_number = 1\n",
    "    for batch in it_list:\n",
    "        with concurrent.futures.ProcessPoolExecutor(max_workers=arg_dict['workers']) as executor:\n",
    "            for file in zip(batch, executor.map(func, batch)):\n",
    "                print(file[0][0], \"has been processed.\")\n",
    "        print('Processing of batch {0} of {1} complete...'.format(batch_number, pools))\n",
    "        batch_number += 1"
   ]
  },
  {
   "cell_type": "code",
   "execution_count": 19,
   "id": "f591233f",
   "metadata": {},
   "outputs": [],
   "source": [
    "arg_dict = {\n",
    "    \"workers\": cpu_count(),\n",
    "    \"transporter_list\": transporter_list,\n",
    "    \"data\": data\n",
    "}"
   ]
  },
  {
   "cell_type": "code",
   "execution_count": 24,
   "id": "7132a71c",
   "metadata": {},
   "outputs": [],
   "source": [
    "arg_iter = arg_dict[\"transporter_list\"]\n",
    "\n",
    "\n",
    "it_list = []\n",
    "range_number = 0\n",
    "for x in range(pools):\n",
    "    it_list.append([iter for iter in arg_iter[range_number:range_number + arg_dict['workers']]])\n",
    "    range_number += arg_dict['workers']"
   ]
  },
  {
   "cell_type": "code",
   "execution_count": null,
   "id": "1ac46425",
   "metadata": {},
   "outputs": [],
   "source": [
    "run_pools(\n",
    "    func,\n",
    "    arg_iter,\n",
    "    arg_dict)"
   ]
  }
 ],
 "metadata": {
  "kernelspec": {
   "display_name": "Python 3 (ipykernel)",
   "language": "python",
   "name": "python3"
  },
  "language_info": {
   "codemirror_mode": {
    "name": "ipython",
    "version": 3
   },
   "file_extension": ".py",
   "mimetype": "text/x-python",
   "name": "python",
   "nbconvert_exporter": "python",
   "pygments_lexer": "ipython3",
   "version": "3.8.10"
  }
 },
 "nbformat": 4,
 "nbformat_minor": 5
}
