{
 "cells": [
  {
   "cell_type": "code",
   "execution_count": 8,
   "id": "fbfff5b4",
   "metadata": {},
   "outputs": [],
   "source": [
    "import os\n",
    "import json\n",
    "\n",
    "import pandas as pd\n",
    "import numpy as np\n",
    "import matplotlib \n",
    "import matplotlib.pyplot as plt"
   ]
  },
  {
   "cell_type": "markdown",
   "id": "4c6fe565",
   "metadata": {},
   "source": [
    "### Load data and sample metadata"
   ]
  },
  {
   "cell_type": "code",
   "execution_count": 2,
   "id": "88a3ddcf",
   "metadata": {},
   "outputs": [],
   "source": [
    "data_path = os.path.join(\n",
    "    os.getcwd(),\n",
    "    \"..\",\n",
    "    \"data\",\n",
    "    \"S_cereviseae_compendia_recount_bio_2022_03_16\"\n",
    ")"
   ]
  },
  {
   "cell_type": "code",
   "execution_count": 29,
   "id": "5f99fa89",
   "metadata": {},
   "outputs": [],
   "source": [
    "with open(\n",
    "        os.path.join(data_path, 'aggregated_metadata.json'), 'r') as jsonfile:\n",
    "    metadata_file = json.load(jsonfile)\n",
    "\n",
    "tables = {}\n",
    "for k, v in metadata_file['experiments'].items():\n",
    "    tables[v[\"accession_code\"]] = v\n",
    "    \n",
    "metadata = pd.DataFrame(tables).T"
   ]
  },
  {
   "cell_type": "code",
   "execution_count": 68,
   "id": "0dd50225",
   "metadata": {},
   "outputs": [
    {
     "name": "stdout",
     "output_type": "stream",
     "text": [
      "Loaded data with dimensions: (5370, 12428)\n"
     ]
    }
   ],
   "source": [
    "data = pd.read_csv(os.path.join(data_path, \"SACCHAROMYCES_CEREVISIAE.tsv\"), sep=\"\\t\", header=0, index_col=0)\n",
    "print(\"Loaded data with dimensions:\", str(data.shape))"
   ]
  },
  {
   "cell_type": "code",
   "execution_count": 69,
   "id": "128ebdef",
   "metadata": {},
   "outputs": [
    {
     "name": "stdout",
     "output_type": "stream",
     "text": [
      "Train data dimensions: (5370, 9942)\n"
     ]
    }
   ],
   "source": [
    "train = data.sample(frac=0.8, random_state=42, axis=1)\n",
    "print(\"Train data dimensions:\", train.shape)"
   ]
  },
  {
   "cell_type": "code",
   "execution_count": 70,
   "id": "81b43170",
   "metadata": {},
   "outputs": [
    {
     "name": "stdout",
     "output_type": "stream",
     "text": [
      "Test data dimensions: (5370, 2486)\n"
     ]
    }
   ],
   "source": [
    "test = data.drop(train.columns, axis=1)\n",
    "print(\"Test data dimensions:\", test.shape)"
   ]
  },
  {
   "cell_type": "markdown",
   "id": "85c5d335",
   "metadata": {},
   "source": [
    "### Load gene metadata"
   ]
  },
  {
   "cell_type": "code",
   "execution_count": 71,
   "id": "04d33fbd",
   "metadata": {},
   "outputs": [],
   "source": [
    "# Get metadata for genes and extract genes with \"transporter\" annotation\n",
    "gene_mapper = pd.read_csv(os.path.join(\n",
    "    os.getcwd(),\n",
    "    \"..\",\n",
    "    \"data\",\n",
    "    \"yeast_orf_dict.csv\"\n",
    "), header=None, names=[\"id\", \"symbol\", \"name\", \"description\"])\n",
    "\n",
    "transporters = gene_mapper.loc[gene_mapper[\"description\"].str.contains(\"transporter\")]\n",
    "transporters_list = transporters[\"id\"].tolist()"
   ]
  },
  {
   "cell_type": "code",
   "execution_count": 74,
   "id": "29d83b0a",
   "metadata": {},
   "outputs": [],
   "source": [
    "train_transporters = train.reindex(labels=transporters_list, axis=0)\n",
    "\n",
    "test_transporters = test.reindex(labels=transporters_list, axis=0)"
   ]
  },
  {
   "cell_type": "code",
   "execution_count": null,
   "id": "b0faa286",
   "metadata": {},
   "outputs": [],
   "source": []
  }
 ],
 "metadata": {
  "kernelspec": {
   "display_name": "Python 3 (ipykernel)",
   "language": "python",
   "name": "python3"
  },
  "language_info": {
   "codemirror_mode": {
    "name": "ipython",
    "version": 3
   },
   "file_extension": ".py",
   "mimetype": "text/x-python",
   "name": "python",
   "nbconvert_exporter": "python",
   "pygments_lexer": "ipython3",
   "version": "3.8.10"
  }
 },
 "nbformat": 4,
 "nbformat_minor": 5
}
