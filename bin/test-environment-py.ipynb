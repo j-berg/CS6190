{
 "cells": [
  {
   "cell_type": "code",
   "execution_count": 9,
   "id": "fbfff5b4",
   "metadata": {},
   "outputs": [],
   "source": [
    "import os\n",
    "import json\n",
    "\n",
    "import pandas as pd\n",
    "import numpy as np\n",
    "import matplotlib \n",
    "import matplotlib.pyplot as plt\n",
    "\n",
    "from linear_modeling import *"
   ]
  },
  {
   "cell_type": "markdown",
   "id": "3703a121",
   "metadata": {},
   "source": [
    "### Load data and sample metadata"
   ]
  },
  {
   "cell_type": "code",
   "execution_count": 2,
   "id": "4764ead9",
   "metadata": {},
   "outputs": [],
   "source": [
    "data_path = os.path.join(\n",
    "    os.getcwd(),\n",
    "    \"..\",\n",
    "    \"data\",\n",
    "    \"S_cereviseae_compendia_recount_bio_2022_03_16\"\n",
    ")"
   ]
  },
  {
   "cell_type": "code",
   "execution_count": 3,
   "id": "a9945551",
   "metadata": {},
   "outputs": [],
   "source": [
    "with open(\n",
    "        os.path.join(data_path, 'aggregated_metadata.json'), 'r') as jsonfile:\n",
    "    metadata_file = json.load(jsonfile)\n",
    "\n",
    "tables = {}\n",
    "for k, v in metadata_file['experiments'].items():\n",
    "    tables[v[\"accession_code\"]] = v\n",
    "    \n",
    "metadata = pd.DataFrame(tables).T"
   ]
  },
  {
   "cell_type": "code",
   "execution_count": 4,
   "id": "60153065",
   "metadata": {},
   "outputs": [
    {
     "name": "stdout",
     "output_type": "stream",
     "text": [
      "Loaded data with dimensions: (5370, 12428)\n"
     ]
    }
   ],
   "source": [
    "data = pd.read_csv(os.path.join(data_path, \"SACCHAROMYCES_CEREVISIAE.tsv\"), sep=\"\\t\", header=0, index_col=0)\n",
    "print(\"Loaded data with dimensions:\", str(data.shape))"
   ]
  },
  {
   "cell_type": "code",
   "execution_count": 277,
   "id": "7432d3f7",
   "metadata": {},
   "outputs": [
    {
     "name": "stdout",
     "output_type": "stream",
     "text": [
      "Train data dimensions: (5370, 7457)\n"
     ]
    }
   ],
   "source": [
    "train = data.sample(frac=0.6, random_state=42, axis=1)\n",
    "print(\"Train data dimensions:\", train.shape)"
   ]
  },
  {
   "cell_type": "code",
   "execution_count": 278,
   "id": "a5ab7396",
   "metadata": {},
   "outputs": [
    {
     "name": "stdout",
     "output_type": "stream",
     "text": [
      "Test data dimensions: (5370, 4971)\n"
     ]
    }
   ],
   "source": [
    "test = data.drop(train.columns, axis=1)\n",
    "print(\"Test data dimensions:\", test.shape)"
   ]
  },
  {
   "cell_type": "markdown",
   "id": "72d807ae",
   "metadata": {},
   "source": [
    "### Load gene metadata"
   ]
  },
  {
   "cell_type": "code",
   "execution_count": 279,
   "id": "7f8b48a5",
   "metadata": {},
   "outputs": [],
   "source": [
    "# Get metadata for genes and extract genes with \"transporter\" annotation\n",
    "gene_mapper = pd.read_csv(os.path.join(\n",
    "    os.getcwd(),\n",
    "    \"..\",\n",
    "    \"data\",\n",
    "    \"yeast_orf_dict.csv\"\n",
    "), header=None, names=[\"id\", \"symbol\", \"name\", \"description\"])\n",
    "\n",
    "transporters = gene_mapper.loc[gene_mapper[\"description\"].str.contains(\"transporter\")]\n",
    "transporters_list = transporters[\"id\"].tolist()"
   ]
  },
  {
   "cell_type": "code",
   "execution_count": 280,
   "id": "df928993",
   "metadata": {},
   "outputs": [],
   "source": [
    "# Extract transporters from data\n",
    "train_transporters = train.reindex(labels=transporters_list, axis=0)\n",
    "test_transporters = test.reindex(labels=transporters_list, axis=0)"
   ]
  },
  {
   "cell_type": "code",
   "execution_count": 281,
   "id": "af4f70cd",
   "metadata": {},
   "outputs": [],
   "source": [
    "# Get ID for transporter\n",
    "_name = \"CTP1\"\n",
    "_this = transporters.loc[transporters[\"symbol\"] == _name][\"id\"].tolist()[0]\n",
    "\n",
    "# Extract transporter from `train` and `test` for labels\n",
    "training_labels = train.loc[[_this]]\n",
    "test_labels = test.loc[[_this]]\n",
    "\n",
    "# Extract all other genes `train` and `test` for input data\n",
    "training_data = train.loc[train.index != _this]\n",
    "test_data = test.loc[test.index != _this]\n",
    "\n",
    "# Format axis for analysis\n",
    "training_labels = np.array(training_labels.T)\n",
    "test_labels = np.array(test_labels.T)\n",
    "training_data = np.array(training_data.T)\n",
    "test_data = np.array(test_data.T)\n",
    "\n",
    "# Pad `train` and `test` with 1s\n",
    "training_data = np.hstack((training_data, np.ones((training_data.shape[0], 1))))\n",
    "test_data = np.hstack((test_data, np.ones((test_data.shape[0], 1))))"
   ]
  },
  {
   "cell_type": "code",
   "execution_count": 324,
   "id": "0a8f0a2a",
   "metadata": {},
   "outputs": [],
   "source": [
    "X = training_data\n",
    "y = training_labels"
   ]
  },
  {
   "cell_type": "code",
   "execution_count": 325,
   "id": "b06b4adc",
   "metadata": {},
   "outputs": [
    {
     "data": {
      "text/plain": [
       "(7457, 5370)"
      ]
     },
     "execution_count": 325,
     "metadata": {},
     "output_type": "execute_result"
    }
   ],
   "source": [
    "X.shape"
   ]
  },
  {
   "cell_type": "code",
   "execution_count": null,
   "id": "cbcb4322",
   "metadata": {},
   "outputs": [],
   "source": []
  },
  {
   "cell_type": "code",
   "execution_count": null,
   "id": "d1167a77",
   "metadata": {},
   "outputs": [],
   "source": []
  },
  {
   "cell_type": "code",
   "execution_count": null,
   "id": "07a84f0d",
   "metadata": {},
   "outputs": [],
   "source": []
  },
  {
   "cell_type": "code",
   "execution_count": null,
   "id": "48fe4a59",
   "metadata": {},
   "outputs": [],
   "source": []
  },
  {
   "cell_type": "code",
   "execution_count": 315,
   "id": "0e3e0ae8",
   "metadata": {},
   "outputs": [],
   "source": [
    "from scipy.stats import multivariate_normal\n",
    "import numpy as np\n",
    "\n",
    "class BayesianLinearRegression:\n",
    "    \"\"\" Bayesian linear regression\n",
    "    \n",
    "    Args:\n",
    "        prior_mean: Mean values of the prior distribution (m_0)\n",
    "        prior_cov: Covariance matrix of the prior distribution (S_0)\n",
    "        noise_var: Variance of the noise distribution\n",
    "    \"\"\"\n",
    "    \n",
    "    def __init__(self, prior_mean: np.ndarray, prior_cov: np.ndarray, noise_var: float):\n",
    "        self.prior_mean = prior_mean[:, np.newaxis] # column vector of shape (1, d)\n",
    "        self.prior_cov = prior_cov # matrix of shape (d, d)\n",
    "        # We initalize the prior distribution over the parameters using the given mean and covariance matrix\n",
    "        # In the formulas above this corresponds to m_0 (prior_mean) and S_0 (prior_cov)\n",
    "        self.prior = multivariate_normal(prior_mean, prior_cov)\n",
    "        \n",
    "        # We also know the variance of the noise\n",
    "        self.noise_var = noise_var # single float value\n",
    "        self.noise_precision = 1 / noise_var\n",
    "        \n",
    "        # Before performing any inference the parameter posterior equals the parameter prior\n",
    "        self.param_posterior = self.prior\n",
    "        # Accordingly, the posterior mean and covariance equal the prior mean and variance\n",
    "        self.post_mean = self.prior_mean # corresponds to m_N in formulas\n",
    "        self.post_cov = self.prior_cov # corresponds to S_N in formulas\n",
    "        \n",
    "        \n",
    "# Let's make sure that we can initialize our model\n",
    "prior_mean = np.array([0, 0])\n",
    "prior_cov = np.array([[0.5, 0], [0, 0.5]])\n",
    "noise_var = 0.2\n",
    "blr = BayesianLinearRegression(prior_mean, prior_cov, noise_var)"
   ]
  },
  {
   "cell_type": "code",
   "execution_count": 316,
   "id": "e66c8a11",
   "metadata": {},
   "outputs": [],
   "source": [
    "import matplotlib.pyplot as plt\n",
    "%matplotlib inline\n",
    "\n",
    "def compute_function_labels(slope: float, intercept: float, noise_std_dev: float, data: np.ndarray) -> np.ndarray:\n",
    "    \"\"\"\n",
    "    Compute target values given function parameters and data.\n",
    "    \n",
    "    Args:\n",
    "        slope: slope of the function (theta_1)\n",
    "        intercept: intercept of the function (theta_0)\n",
    "        data: input feature values (x)\n",
    "        noise_std_dev: standard deviation of noise distribution (sigma)\n",
    "        \n",
    "    Returns:\n",
    "        target values, either true or corrupted with noise\n",
    "    \"\"\"\n",
    "    n_samples = len(data)\n",
    "    if noise_std_dev == 0: # Real function\n",
    "        return slope * data + intercept\n",
    "    else: # Noise corrupted\n",
    "        return slope * data + intercept + np.random.normal(0, noise_std_dev, n_samples)"
   ]
  },
  {
   "cell_type": "code",
   "execution_count": 317,
   "id": "4e1b8c58",
   "metadata": {},
   "outputs": [],
   "source": [
    "# Set random seed to ensure reproducibility\n",
    "seed = 42\n",
    "np.random.seed(seed)\n",
    "\n",
    "# Generate true values and noise corrupted targets\n",
    "n_datapoints = 1000\n",
    "intercept = -0.7\n",
    "slope = 0.9\n",
    "noise_std_dev = 0.5\n",
    "noise_var = noise_std_dev**2\n",
    "lower_bound = -1.5\n",
    "upper_bound = 1.5\n",
    "\n",
    "# Generate dataset\n",
    "features = np.random.uniform(lower_bound, upper_bound, n_datapoints)\n",
    "labels = compute_function_labels(slope, intercept, 0., features)\n",
    "noise_corrupted_labels = compute_function_labels(slope, intercept, noise_std_dev, features)"
   ]
  },
  {
   "cell_type": "code",
   "execution_count": 328,
   "id": "d9b56927",
   "metadata": {},
   "outputs": [],
   "source": [
    "features = X[:,0]\n",
    "noise_corrupted_labels = y"
   ]
  },
  {
   "cell_type": "code",
   "execution_count": 329,
   "id": "b48b1f88",
   "metadata": {},
   "outputs": [
    {
     "data": {
      "image/png": "[encoded data removed]",
      "text/plain": [
       "<Figure size 720x504 with 1 Axes>"
      ]
     },
     "metadata": {
      "needs_background": "light"
     },
     "output_type": "display_data"
    }
   ],
   "source": [
    "# Plot the dataset\n",
    "plt.figure(figsize=(10,7))\n",
    "plt.scatter(features, noise_corrupted_labels, label=\"Noise corrupted values\")\n",
    "plt.xlabel(\"Features\")\n",
    "plt.ylabel(\"Labels\")\n",
    "plt.title(\"Real function along with noisy targets\")\n",
    "plt.legend();"
   ]
  },
  {
   "cell_type": "code",
   "execution_count": 334,
   "id": "90d5e378",
   "metadata": {},
   "outputs": [
    {
     "name": "stdout",
     "output_type": "stream",
     "text": [
      "Shape X_train: (5592,)\n",
      "Shape y_train: (5592, 1)\n",
      "Shape X_test: (1865,)\n",
      "Shape y_test: (1865, 1)\n"
     ]
    }
   ],
   "source": [
    "from sklearn.model_selection import train_test_split\n",
    "\n",
    "# Split the data into a training and test set\n",
    "X_train, X_test, y_train, y_test = train_test_split(features, noise_corrupted_labels)\n",
    "\n",
    "print(f'Shape X_train: {X_train.shape}')\n",
    "print(f'Shape y_train: {y_train.shape}')\n",
    "print(f'Shape X_test: {X_test.shape}')\n",
    "print(f'Shape y_test: {y_test.shape}')"
   ]
  },
  {
   "cell_type": "code",
   "execution_count": 339,
   "id": "f9afb9e8",
   "metadata": {},
   "outputs": [],
   "source": [
    "X_train = X_train[:, np.newaxis]\n",
    "X_test = X_test[:, np.newaxis]"
   ]
  },
  {
   "cell_type": "code",
   "execution_count": 340,
   "id": "df0bbcc0",
   "metadata": {},
   "outputs": [],
   "source": [
    "class LinearRegression:\n",
    "    \n",
    "    def __init__(self):\n",
    "        pass\n",
    "\n",
    "    def train_gradient_descent(self, X, y, learning_rate=0.01, n_iters=100):\n",
    "        \"\"\"\n",
    "        Trains a linear regression model using gradient descent\n",
    "        \"\"\"\n",
    "        # Step 0: Initialize the parameters\n",
    "        n_samples, n_features = X.shape\n",
    "        self.weights = np.zeros(shape=(n_features,1))\n",
    "        self.bias = 0\n",
    "        costs = []\n",
    "\n",
    "        for i in range(n_iters):\n",
    "            # Step 1: Compute a linear combination of the input features and weights\n",
    "            y_predict = np.dot(X, self.weights) + self.bias\n",
    "\n",
    "            # Step 2: Compute cost over training set\n",
    "            cost = (1 / n_samples) * np.sum((y_predict - y)**2)\n",
    "            costs.append(cost)\n",
    "\n",
    "            if i % 100 == 0:\n",
    "                print(f\"Cost at iteration {i}: {cost}\")\n",
    "\n",
    "            # Step 3: Compute the gradients\n",
    "            dJ_dw = (2 / n_samples) * np.dot(X.T, (y_predict - y))\n",
    "            dJ_db = (2 / n_samples) * np.sum((y_predict - y)) \n",
    "            \n",
    "            # Step 4: Update the parameters\n",
    "            self.weights = self.weights - learning_rate * dJ_dw\n",
    "            self.bias = self.bias - learning_rate * dJ_db\n",
    "\n",
    "        return self.weights, self.bias, costs\n",
    "\n",
    "    def train_normal_equation(self, X, y):\n",
    "        \"\"\"\n",
    "        Trains a linear regression model using the normal equation\n",
    "        \"\"\"\n",
    "        self.weights = np.dot(np.dot(np.linalg.inv(np.dot(X.T, X)), X.T), y)\n",
    "        self.bias = 0\n",
    "        \n",
    "        return self.weights, self.bias\n",
    "\n",
    "    def predict(self, X):\n",
    "        return np.dot(X, self.weights) + self.bias"
   ]
  },
  {
   "cell_type": "code",
   "execution_count": 354,
   "id": "a2519c9e",
   "metadata": {},
   "outputs": [
    {
     "name": "stdout",
     "output_type": "stream",
     "text": [
      "Cost at iteration 0: 3.543677435164375\n",
      "Cost at iteration 100: 1.1413874693825705\n",
      "Cost at iteration 200: 1.019165133768676\n",
      "Cost at iteration 300: 0.9433907782526892\n",
      "Cost at iteration 400: 0.8964118033440864\n",
      "Cost at iteration 500: 0.8672855366997713\n"
     ]
    },
    {
     "data": {
      "image/png": "[encoded data removed]",
      "text/plain": [
       "<Figure size 576x432 with 1 Axes>"
      ]
     },
     "metadata": {
      "needs_background": "light"
     },
     "output_type": "display_data"
    }
   ],
   "source": [
    "regressor = LinearRegression()\n",
    "w_trained, b_trained, costs = regressor.train_gradient_descent(X_train, y_train, learning_rate=0.01, n_iters=600)\n",
    "\n",
    "fig = plt.figure(figsize=(8,6))\n",
    "plt.plot(np.arange(600), costs)\n",
    "plt.title(\"Development of cost during training\")\n",
    "plt.xlabel(\"Number of iterations\")\n",
    "plt.ylabel(\"Cost\")\n",
    "plt.show()"
   ]
  },
  {
   "cell_type": "code",
   "execution_count": 342,
   "id": "c5fcc6f3",
   "metadata": {},
   "outputs": [
    {
     "name": "stdout",
     "output_type": "stream",
     "text": [
      "Error on training set: 0.9435\n",
      "Error on test set: 1.0\n"
     ]
    }
   ],
   "source": [
    "n_samples, _ = X_train.shape\n",
    "n_samples_test, _ = X_test.shape\n",
    "\n",
    "y_p_train = regressor.predict(X_train)\n",
    "y_p_test = regressor.predict(X_test)\n",
    "\n",
    "error_train =  (1 / n_samples) * np.sum((y_p_train - y_train) ** 2)\n",
    "error_test =  (1 / n_samples_test) * np.sum((y_p_test - y_test) ** 2)\n",
    "\n",
    "print(f\"Error on training set: {np.round(error_train, 4)}\")\n",
    "print(f\"Error on test set: {np.round(error_test)}\")"
   ]
  },
  {
   "cell_type": "code",
   "execution_count": 343,
   "id": "8e4245ac",
   "metadata": {},
   "outputs": [],
   "source": [
    "# To compute the parameters using the normal equation, we add a bias value of 1 to each input example\n",
    "X_b_train = np.c_[np.ones((n_samples)), X_train]\n",
    "X_b_test = np.c_[np.ones((n_samples_test)), X_test]\n",
    "\n",
    "reg_normal = LinearRegression()\n",
    "w_trained = reg_normal.train_normal_equation(X_b_train, y_train)"
   ]
  },
  {
   "cell_type": "code",
   "execution_count": 344,
   "id": "1e3e73de",
   "metadata": {},
   "outputs": [
    {
     "name": "stdout",
     "output_type": "stream",
     "text": [
      "Error on training set: 0.8198\n",
      "Error on test set: 0.7806\n"
     ]
    }
   ],
   "source": [
    "y_p_train = reg_normal.predict(X_b_train)\n",
    "y_p_test = reg_normal.predict(X_b_test)\n",
    "\n",
    "error_train =  (1 / n_samples) * np.sum((y_p_train - y_train) ** 2)\n",
    "error_test =  (1 / n_samples_test) * np.sum((y_p_test - y_test) ** 2)\n",
    "\n",
    "print(f\"Error on training set: {np.round(error_train, 4)}\")\n",
    "print(f\"Error on test set: {np.round(error_test, 4)}\")"
   ]
  },
  {
   "cell_type": "code",
   "execution_count": 345,
   "id": "25946e13",
   "metadata": {},
   "outputs": [
    {
     "data": {
      "image/png": "[encoded data removed]",
      "text/plain": [
       "<Figure size 576x432 with 1 Axes>"
      ]
     },
     "metadata": {
      "needs_background": "light"
     },
     "output_type": "display_data"
    }
   ],
   "source": [
    "# Plot the test predictions\n",
    "\n",
    "fig = plt.figure(figsize=(8,6))\n",
    "plt.title(\"Dataset in blue, predictions for test set in orange\")\n",
    "plt.scatter(X_train, y_train)\n",
    "plt.scatter(X_test, y_p_test)\n",
    "plt.xlabel(\"First feature\")\n",
    "plt.ylabel(\"Second feature\")\n",
    "plt.show()"
   ]
  },
  {
   "cell_type": "code",
   "execution_count": null,
   "id": "cbbe5f54",
   "metadata": {},
   "outputs": [],
   "source": []
  }
 ],
 "metadata": {
  "kernelspec": {
   "display_name": "Python 3 (ipykernel)",
   "language": "python",
   "name": "python3"
  },
  "language_info": {
   "codemirror_mode": {
    "name": "ipython",
    "version": 3
   },
   "file_extension": ".py",
   "mimetype": "text/x-python",
   "name": "python",
   "nbconvert_exporter": "python",
   "pygments_lexer": "ipython3",
   "version": "3.8.10"
  }
 },
 "nbformat": 4,
 "nbformat_minor": 5
}
