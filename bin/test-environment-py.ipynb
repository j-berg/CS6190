{
 "cells": [
  {
   "cell_type": "code",
   "execution_count": 1,
   "id": "fbfff5b4",
   "metadata": {},
   "outputs": [],
   "source": [
    "import os\n",
    "import json\n",
    "\n",
    "import pandas as pd\n",
    "import numpy as np\n",
    "import matplotlib \n",
    "import matplotlib.pyplot as plt\n",
    "\n",
    "from linear_modeling import *"
   ]
  },
  {
   "cell_type": "markdown",
   "id": "4925d3d8",
   "metadata": {},
   "source": [
    "### Load data and sample metadata"
   ]
  },
  {
   "cell_type": "code",
   "execution_count": 2,
   "id": "65755dd2",
   "metadata": {},
   "outputs": [],
   "source": [
    "data_path = os.path.join(\n",
    "    os.getcwd(),\n",
    "    \"..\",\n",
    "    \"data\",\n",
    "    \"S_cereviseae_compendia_recount_bio_2022_03_16\"\n",
    ")"
   ]
  },
  {
   "cell_type": "code",
   "execution_count": 3,
   "id": "98e46a84",
   "metadata": {},
   "outputs": [],
   "source": [
    "with open(\n",
    "        os.path.join(data_path, 'aggregated_metadata.json'), 'r') as jsonfile:\n",
    "    metadata_file = json.load(jsonfile)\n",
    "\n",
    "tables = {}\n",
    "for k, v in metadata_file['experiments'].items():\n",
    "    tables[v[\"accession_code\"]] = v\n",
    "    \n",
    "metadata = pd.DataFrame(tables).T"
   ]
  },
  {
   "cell_type": "code",
   "execution_count": 4,
   "id": "041b8bf5",
   "metadata": {},
   "outputs": [
    {
     "name": "stdout",
     "output_type": "stream",
     "text": [
      "Loaded data with dimensions: (12428, 5370)\n"
     ]
    }
   ],
   "source": [
    "data = pd.read_csv(os.path.join(data_path, \"SACCHAROMYCES_CEREVISIAE.tsv\"), sep=\"\\t\", header=0, index_col=0).T\n",
    "print(\"Loaded data with dimensions:\", str(data.shape))"
   ]
  },
  {
   "cell_type": "markdown",
   "id": "ae91b853",
   "metadata": {},
   "source": [
    "### Load gene metadata"
   ]
  },
  {
   "cell_type": "code",
   "execution_count": 33,
   "id": "30578695",
   "metadata": {},
   "outputs": [],
   "source": [
    "# Get metadata for genes and extract genes with \"transporter\" annotation\n",
    "gene_mapper = pd.read_csv(os.path.join(\n",
    "    os.getcwd(),\n",
    "    \"..\",\n",
    "    \"data\",\n",
    "    \"yeast_orf_dict.csv\"\n",
    "), header=None, names=[\"id\", \"symbol\", \"name\", \"description\"])\n",
    "\n",
    "transporters = gene_mapper.loc[gene_mapper[\"description\"].str.contains(\"transporter\")]\n",
    "transporters_list = transporters[\"id\"].tolist()"
   ]
  },
  {
   "cell_type": "code",
   "execution_count": 42,
   "id": "a9db34f3",
   "metadata": {},
   "outputs": [],
   "source": [
    "gene_map = {}\n",
    "for i, r in gene_mapper.iterrows():\n",
    "    _id = str(r[\"id\"])\n",
    "    _name = str(r[\"symbol\"])\n",
    "    if _name != \"nan\":\n",
    "        gene_map[_id] = _name\n",
    "    else:\n",
    "        gene_map[_id] = _id"
   ]
  },
  {
   "cell_type": "code",
   "execution_count": 6,
   "id": "ad6a2bd3",
   "metadata": {},
   "outputs": [],
   "source": [
    "# Get ID for transporter\n",
    "_name = \"CTP1\"\n",
    "_this = transporters.loc[transporters[\"symbol\"] == _name][\"id\"].tolist()[0]"
   ]
  },
  {
   "cell_type": "code",
   "execution_count": 7,
   "id": "24fe750e",
   "metadata": {},
   "outputs": [],
   "source": [
    "def split_data(data, label_names, test_fraction=0.2, random_state=42):\n",
    "    \"\"\"Split input data into training and testing sets\n",
    "    \n",
    "    data        <pd.DataFrame> : Expects dataframe with genes as columns and samples as rows\n",
    "    label_names <array>        : List of name(s) that are labels\n",
    "    \"\"\"\n",
    "    \n",
    "    test = data.sample(\n",
    "        frac=test_fraction, \n",
    "        random_state=random_state,\n",
    "        axis=0)\n",
    "    train = data.loc[~data.index.isin(test.index)]\n",
    "    \n",
    "    X_test = test[test.columns.difference(label_names)]\n",
    "    y_test = test[label_names]\n",
    "    \n",
    "    X_train = train[train.columns.difference(label_names)]\n",
    "    y_train = train[label_names]\n",
    "    \n",
    "    feature_labels = [X_test.columns.tolist(), y_test.columns.tolist()]\n",
    "    \n",
    "    return np.array(X_train), np.array(X_test), np.array(y_train), np.array(y_test), feature_labels"
   ]
  },
  {
   "cell_type": "code",
   "execution_count": 8,
   "id": "9432f716",
   "metadata": {},
   "outputs": [],
   "source": [
    "X_train, X_test, y_train, y_test, feature_labels = split_data(data, [_this], test_fraction=0.3)"
   ]
  },
  {
   "cell_type": "code",
   "execution_count": 13,
   "id": "236ba261",
   "metadata": {},
   "outputs": [
    {
     "name": "stdout",
     "output_type": "stream",
     "text": [
      "Initializing zero weights...\n",
      "Performing MAP estimation with Newton-Raphson solver...\n",
      "\tIteration: 1, Change in weights: 7.204, MSE: 2078.63816\n",
      "\tIteration: 2, Change in weights: 2938.024, MSE: 3371.90173\n",
      "\tIteration: 3, Change in weights: 37113.022, MSE: 2467.93706\n",
      "\tIteration: 4, Change in weights: 199469.932, MSE: 1518.65288\n",
      "\tIteration: 5, Change in weights: 906304.173, MSE: 1516.10095\n",
      "\tIteration: 6, Change in weights: 185.245, MSE: 1516.10095\n",
      "\tIteration: 7, Change in weights: 0.0, MSE: 1516.10095\n",
      "Training complete.\n"
     ]
    },
    {
     "data": {
      "text/plain": [
       "Text(0, 0.5, 'MSE')"
      ]
     },
     "execution_count": 13,
     "metadata": {},
     "output_type": "execute_result"
    },
    {
     "data": {
      "image/png": "[encoded data removed]",
      "text/plain": [
       "<Figure size 432x288 with 1 Axes>"
      ]
     },
     "metadata": {
      "needs_background": "light"
     },
     "output_type": "display_data"
    }
   ],
   "source": [
    "final_weights1, mse_record = newton_solver(\n",
    "    training_data=X_train, \n",
    "    training_labels=y_train, \n",
    "    test_data=X_test, \n",
    "    test_labels=y_test, \n",
    "    initialization_type=\"zero\", \n",
    "    regression_type=\"logistic\")\n",
    "\n",
    "plt.plot([i for i in range(len(mse_record))], mse_record)\n",
    "plt.xlabel(\"Iteration\")\n",
    "plt.ylabel(\"MSE\")"
   ]
  },
  {
   "cell_type": "code",
   "execution_count": 14,
   "id": "645a0fc0",
   "metadata": {},
   "outputs": [
    {
     "name": "stdout",
     "output_type": "stream",
     "text": [
      "Initializing random weights...\n",
      "Performing MAP estimation with Newton-Raphson solver...\n",
      "\tIteration: 1, Change in weights: 15129.282, MSE: 2481.2024\n",
      "\tIteration: 2, Change in weights: 76658.61, MSE: 2060.26032\n",
      "\tIteration: 3, Change in weights: 1077771.235, MSE: 1516.10095\n",
      "\tIteration: 4, Change in weights: 164053.794, MSE: 1516.10095\n",
      "\tIteration: 5, Change in weights: 0.0, MSE: 1516.10095\n",
      "Training complete.\n"
     ]
    },
    {
     "data": {
      "text/plain": [
       "Text(0, 0.5, 'MSE')"
      ]
     },
     "execution_count": 14,
     "metadata": {},
     "output_type": "execute_result"
    },
    {
     "data": {
      "image/png": "[encoded data removed]",
      "text/plain": [
       "<Figure size 432x288 with 1 Axes>"
      ]
     },
     "metadata": {
      "needs_background": "light"
     },
     "output_type": "display_data"
    }
   ],
   "source": [
    "final_weights2, mse_record = newton_solver(\n",
    "    training_data=X_train, \n",
    "    training_labels=y_train, \n",
    "    test_data=X_test, \n",
    "    test_labels=y_test, \n",
    "    initialization_type=\"random\", \n",
    "    regression_type=\"logistic\",\n",
    "    gaussian_sd=0.2)\n",
    "\n",
    "plt.plot([i for i in range(len(mse_record))], mse_record)\n",
    "plt.xlabel(\"Iteration\")\n",
    "plt.ylabel(\"MSE\")"
   ]
  },
  {
   "cell_type": "code",
   "execution_count": 15,
   "id": "5fd8c399",
   "metadata": {},
   "outputs": [
    {
     "name": "stdout",
     "output_type": "stream",
     "text": [
      "Initializing random weights...\n",
      "Performing MAP estimation with Newton-Raphson solver...\n",
      "\tIteration: 1, Change in weights: 79476.684, MSE: 1656.97597\n",
      "\tIteration: 2, Change in weights: 393764.617, MSE: 1516.10095\n",
      "\tIteration: 3, Change in weights: 837496.034, MSE: 1516.10095\n",
      "\tIteration: 4, Change in weights: 0.0, MSE: 1516.10095\n",
      "Training complete.\n"
     ]
    },
    {
     "data": {
      "text/plain": [
       "Text(0, 0.5, 'MSE')"
      ]
     },
     "execution_count": 15,
     "metadata": {},
     "output_type": "execute_result"
    },
    {
     "data": {
      "image/png": "[encoded data removed]",
      "text/plain": [
       "<Figure size 432x288 with 1 Axes>"
      ]
     },
     "metadata": {
      "needs_background": "light"
     },
     "output_type": "display_data"
    }
   ],
   "source": [
    "final_weights3, mse_record = newton_solver(\n",
    "    training_data=X_train, \n",
    "    training_labels=y_train, \n",
    "    test_data=X_test, \n",
    "    test_labels=y_test, \n",
    "    initialization_type=\"random\", \n",
    "    regression_type=\"logistic\",\n",
    "    gaussian_sd=0.2,\n",
    "    regularizer=2)\n",
    "\n",
    "plt.plot([i for i in range(len(mse_record))], mse_record)\n",
    "plt.xlabel(\"Iteration\")\n",
    "plt.ylabel(\"MSE\")"
   ]
  },
  {
   "cell_type": "code",
   "execution_count": 16,
   "id": "b70a22b0",
   "metadata": {},
   "outputs": [
    {
     "name": "stdout",
     "output_type": "stream",
     "text": [
      "Initializing random weights...\n",
      "Performing MAP estimation with Newton-Raphson solver...\n",
      "\tIteration: 1, Change in weights: 244402.626, MSE: 1606.69532\n",
      "\tIteration: 2, Change in weights: 947217.697, MSE: 1516.10095\n",
      "\tIteration: 3, Change in weights: 24380.398, MSE: 1516.10095\n",
      "\tIteration: 4, Change in weights: 0.0, MSE: 1516.10095\n",
      "Training complete.\n"
     ]
    },
    {
     "data": {
      "text/plain": [
       "Text(0, 0.5, 'MSE')"
      ]
     },
     "execution_count": 16,
     "metadata": {},
     "output_type": "execute_result"
    },
    {
     "data": {
      "image/png": "[encoded data removed]",
      "text/plain": [
       "<Figure size 432x288 with 1 Axes>"
      ]
     },
     "metadata": {
      "needs_background": "light"
     },
     "output_type": "display_data"
    }
   ],
   "source": [
    "final_weights4, mse_record = newton_solver(\n",
    "    training_data=X_train, \n",
    "    training_labels=y_train, \n",
    "    test_data=X_test, \n",
    "    test_labels=y_test, \n",
    "    initialization_type=\"random\", \n",
    "    regression_type=\"logistic\",\n",
    "    gaussian_sd=0.2,\n",
    "    regularizer=0.2)\n",
    "\n",
    "plt.plot([i for i in range(len(mse_record))], mse_record)\n",
    "plt.xlabel(\"Iteration\")\n",
    "plt.ylabel(\"MSE\")"
   ]
  },
  {
   "cell_type": "code",
   "execution_count": null,
   "id": "362f91a1",
   "metadata": {},
   "outputs": [],
   "source": []
  },
  {
   "cell_type": "code",
   "execution_count": 19,
   "id": "8dafa3d8",
   "metadata": {},
   "outputs": [
    {
     "data": {
      "text/plain": [
       "232.20420595642872"
      ]
     },
     "execution_count": 19,
     "metadata": {},
     "output_type": "execute_result"
    }
   ],
   "source": [
    "np.min(final_weights1)"
   ]
  },
  {
   "cell_type": "code",
   "execution_count": null,
   "id": "39b8de0f",
   "metadata": {},
   "outputs": [],
   "source": [
    "data.corr()[_this].sort_values()"
   ]
  },
  {
   "cell_type": "code",
   "execution_count": null,
   "id": "4c115af5",
   "metadata": {},
   "outputs": [],
   "source": []
  },
  {
   "cell_type": "code",
   "execution_count": 51,
   "id": "fcab643e",
   "metadata": {},
   "outputs": [],
   "source": [
    "weights_matrix = pd.DataFrame(final_weights1, index=feature_labels[0], columns=[\"weights\"])\n",
    "weights_matrix.index = weights_matrix.index.to_series().map(gene_map).tolist()"
   ]
  },
  {
   "cell_type": "code",
   "execution_count": 53,
   "id": "7a0e5b7a",
   "metadata": {},
   "outputs": [
    {
     "data": {
      "text/html": [
       "<div>\n",
       "<style scoped>\n",
       "    .dataframe tbody tr th:only-of-type {\n",
       "        vertical-align: middle;\n",
       "    }\n",
       "\n",
       "    .dataframe tbody tr th {\n",
       "        vertical-align: top;\n",
       "    }\n",
       "\n",
       "    .dataframe thead th {\n",
       "        text-align: right;\n",
       "    }\n",
       "</style>\n",
       "<table border=\"1\" class=\"dataframe\">\n",
       "  <thead>\n",
       "    <tr style=\"text-align: right;\">\n",
       "      <th></th>\n",
       "      <th>weights</th>\n",
       "    </tr>\n",
       "  </thead>\n",
       "  <tbody>\n",
       "    <tr>\n",
       "      <th>TDH3</th>\n",
       "      <td>56374.747316</td>\n",
       "    </tr>\n",
       "    <tr>\n",
       "      <th>CCW12</th>\n",
       "      <td>55050.693238</td>\n",
       "    </tr>\n",
       "    <tr>\n",
       "      <th>FBA1</th>\n",
       "      <td>53015.769520</td>\n",
       "    </tr>\n",
       "    <tr>\n",
       "      <th>ENO2</th>\n",
       "      <td>51831.608948</td>\n",
       "    </tr>\n",
       "    <tr>\n",
       "      <th>RPS31</th>\n",
       "      <td>49551.004784</td>\n",
       "    </tr>\n",
       "    <tr>\n",
       "      <th>ADH1</th>\n",
       "      <td>48897.916718</td>\n",
       "    </tr>\n",
       "    <tr>\n",
       "      <th>RPL25</th>\n",
       "      <td>48498.442100</td>\n",
       "    </tr>\n",
       "    <tr>\n",
       "      <th>RPS3</th>\n",
       "      <td>48452.582248</td>\n",
       "    </tr>\n",
       "    <tr>\n",
       "      <th>GPM1</th>\n",
       "      <td>48299.667898</td>\n",
       "    </tr>\n",
       "    <tr>\n",
       "      <th>PDC1</th>\n",
       "      <td>47592.132948</td>\n",
       "    </tr>\n",
       "    <tr>\n",
       "      <th>YEF3</th>\n",
       "      <td>47224.805716</td>\n",
       "    </tr>\n",
       "    <tr>\n",
       "      <th>TPI1</th>\n",
       "      <td>47045.750555</td>\n",
       "    </tr>\n",
       "    <tr>\n",
       "      <th>RPL30</th>\n",
       "      <td>46658.441795</td>\n",
       "    </tr>\n",
       "    <tr>\n",
       "      <th>RPL40A</th>\n",
       "      <td>46088.771312</td>\n",
       "    </tr>\n",
       "    <tr>\n",
       "      <th>RPL24A</th>\n",
       "      <td>45965.944428</td>\n",
       "    </tr>\n",
       "    <tr>\n",
       "      <th>CDC19</th>\n",
       "      <td>45510.540427</td>\n",
       "    </tr>\n",
       "    <tr>\n",
       "      <th>RPS12</th>\n",
       "      <td>45330.386284</td>\n",
       "    </tr>\n",
       "    <tr>\n",
       "      <th>RPL10</th>\n",
       "      <td>45330.273728</td>\n",
       "    </tr>\n",
       "    <tr>\n",
       "      <th>RPL5</th>\n",
       "      <td>45173.364308</td>\n",
       "    </tr>\n",
       "    <tr>\n",
       "      <th>RPL11B</th>\n",
       "      <td>45168.234239</td>\n",
       "    </tr>\n",
       "    <tr>\n",
       "      <th>RPS5</th>\n",
       "      <td>45135.047426</td>\n",
       "    </tr>\n",
       "    <tr>\n",
       "      <th>RPS2</th>\n",
       "      <td>44929.883064</td>\n",
       "    </tr>\n",
       "    <tr>\n",
       "      <th>RPS15</th>\n",
       "      <td>44594.663202</td>\n",
       "    </tr>\n",
       "    <tr>\n",
       "      <th>RPS23B</th>\n",
       "      <td>44439.733465</td>\n",
       "    </tr>\n",
       "    <tr>\n",
       "      <th>ACT1</th>\n",
       "      <td>44322.461137</td>\n",
       "    </tr>\n",
       "    <tr>\n",
       "      <th>RPL23B</th>\n",
       "      <td>44245.949161</td>\n",
       "    </tr>\n",
       "    <tr>\n",
       "      <th>TMA19</th>\n",
       "      <td>44132.606389</td>\n",
       "    </tr>\n",
       "    <tr>\n",
       "      <th>RPL28</th>\n",
       "      <td>43968.292685</td>\n",
       "    </tr>\n",
       "    <tr>\n",
       "      <th>RPL8B</th>\n",
       "      <td>43855.566596</td>\n",
       "    </tr>\n",
       "    <tr>\n",
       "      <th>RPL37B</th>\n",
       "      <td>43853.751871</td>\n",
       "    </tr>\n",
       "  </tbody>\n",
       "</table>\n",
       "</div>"
      ],
      "text/plain": [
       "             weights\n",
       "TDH3    56374.747316\n",
       "CCW12   55050.693238\n",
       "FBA1    53015.769520\n",
       "ENO2    51831.608948\n",
       "RPS31   49551.004784\n",
       "ADH1    48897.916718\n",
       "RPL25   48498.442100\n",
       "RPS3    48452.582248\n",
       "GPM1    48299.667898\n",
       "PDC1    47592.132948\n",
       "YEF3    47224.805716\n",
       "TPI1    47045.750555\n",
       "RPL30   46658.441795\n",
       "RPL40A  46088.771312\n",
       "RPL24A  45965.944428\n",
       "CDC19   45510.540427\n",
       "RPS12   45330.386284\n",
       "RPL10   45330.273728\n",
       "RPL5    45173.364308\n",
       "RPL11B  45168.234239\n",
       "RPS5    45135.047426\n",
       "RPS2    44929.883064\n",
       "RPS15   44594.663202\n",
       "RPS23B  44439.733465\n",
       "ACT1    44322.461137\n",
       "RPL23B  44245.949161\n",
       "TMA19   44132.606389\n",
       "RPL28   43968.292685\n",
       "RPL8B   43855.566596\n",
       "RPL37B  43853.751871"
      ]
     },
     "execution_count": 53,
     "metadata": {},
     "output_type": "execute_result"
    }
   ],
   "source": [
    "weights_matrix.sort_values(by=\"weights\", ascending=False).head(30)"
   ]
  },
  {
   "cell_type": "code",
   "execution_count": null,
   "id": "964f2e9a",
   "metadata": {},
   "outputs": [],
   "source": [
    "# a lot of structural components - worried these might be biased factors"
   ]
  },
  {
   "cell_type": "code",
   "execution_count": null,
   "id": "026ac0bf",
   "metadata": {},
   "outputs": [],
   "source": [
    "# try single or batch regression, see if this gives better gene prioritization"
   ]
  }
 ],
 "metadata": {
  "kernelspec": {
   "display_name": "Python 3 (ipykernel)",
   "language": "python",
   "name": "python3"
  },
  "language_info": {
   "codemirror_mode": {
    "name": "ipython",
    "version": 3
   },
   "file_extension": ".py",
   "mimetype": "text/x-python",
   "name": "python",
   "nbconvert_exporter": "python",
   "pygments_lexer": "ipython3",
   "version": "3.8.10"
  }
 },
 "nbformat": 4,
 "nbformat_minor": 5
}
